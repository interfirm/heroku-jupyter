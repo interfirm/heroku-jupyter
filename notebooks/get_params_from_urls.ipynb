{
 "cells": [
  {
   "cell_type": "markdown",
   "metadata": {},
   "source": [
    "urlsの中身を置き換えて使ってください。"
   ]
  },
  {
   "cell_type": "code",
   "execution_count": 36,
   "metadata": {
    "collapsed": false,
    "scrolled": true
   },
   "outputs": [
    {
     "data": {
      "text/html": [
       "<table><tr><th>_url</th><th>aq</th><th>ei</th><th>fr</th><th>haq</th><th>oq</th><th>p</th><th>aa</th><th>ai</th><th>at</th><th>ts</th></tr><tr><td>http://search.yahoo.co.jp/search?ei=UTF-8&fr=yjapp3_and&p=%E3%83%90%E3%82%A4%E3%82%AF%E6%9F%BB%E5%AE%9A&oq=&aq=-1&haq=0</td><td>-1</td><td>UTF-8</td><td>yjapp3_and</td><td>0</td><td></td><td>バイク査定</td><td></td><td></td><td></td><td></td></tr><tr><td>http://search.yahoo.co.jp/search?&ei=UTF-8&p=%E3%83%90%E3%82%A4%E3%82%AF%E6%9F%BB%E5%AE%9A&fr=applep2&aq=0&oq=%E3%83%90%E3%82%A4%E3%82%AF%E3%81%95&aa=0&ts=9942&at=s&ai=aZLVbx0RRWmZWgk_QNUrmA</td><td>0</td><td>UTF-8</td><td>applep2</td><td></td><td>バイクさ</td><td>バイク査定</td><td>0</td><td>aZLVbx0RRWmZWgk_QNUrmA</td><td>s</td><td>9942</td></tr></table>"
      ],
      "text/plain": [
       "\"<table><tr><th>_url</th><th>aq</th><th>ei</th><th>fr</th><th>haq</th><th>oq</th><th>p</th><th>aa</th><th>ai</th><th>at</th><th>ts</th></tr><tr><td>http://search.yahoo.co.jp/search?ei=UTF-8&fr=yjapp3_and&p=%E3%83%90%E3%82%A4%E3%82%AF%E6%9F%BB%E5%AE%9A&oq=&aq=-1&haq=0</td><td>-1</td><td>UTF-8</td><td>yjapp3_and</td><td>0</td><td></td><td>バイク査定</td><td></td><td></td><td></td><td></td></tr><tr><td>http://search.yahoo.co.jp/search?&ei=UTF-8&p=%E3%83%90%E3%82%A4%E3%82%AF%E6%9F%BB%E5%AE%9A&fr=applep2&aq=0&oq=%E3%83%90%E3%82%A4%E3%82%AF%E3%81%95&aa=0&ts=9942&at=s&ai=aZLVbx0RRWmZWgk_QNUrmA</td><td>0</td><td>UTF-8</td><td>applep2</td><td></td><td>バイクさ</td><td>バイク査定</td><td>0</td><td>aZLVbx0RRWmZWgk_QNUrmA</td><td>s</td><td>9942</td></tr></table>\""
      ]
     },
     "metadata": {},
     "output_type": "display_data"
    }
   ],
   "source": [
    "urls = \"\n",
    "http://search.yahoo.co.jp/search?ei=UTF-8&fr=yjapp3_and&p=%E3%83%90%E3%82%A4%E3%82%AF%E6%9F%BB%E5%AE%9A&oq=&aq=-1&haq=0\n",
    "http://search.yahoo.co.jp/search?&ei=UTF-8&p=%E3%83%90%E3%82%A4%E3%82%AF%E6%9F%BB%E5%AE%9A&fr=applep2&aq=0&oq=%E3%83%90%E3%82%A4%E3%82%AF%E3%81%95&aa=0&ts=9942&at=s&ai=aZLVbx0RRWmZWgk_QNUrmA\n",
    "\".lstrip.chomp.split(/\\n/)\n",
    "require \"uri\"\n",
    "require \"cgi\"\n",
    "\n",
    "params = urls.map do |url|\n",
    "  param = CGI.parse(URI.parse(url).query)\n",
    "  param[\"_url\"] = [url]\n",
    "  param.map { |k, v| [k, v.join] }.sort_by{ |k,_| k }.to_h\n",
    "end\n",
    "IRuby.display IRuby.table(params)\n"
   ]
  },
  {
   "cell_type": "code",
   "execution_count": null,
   "metadata": {
    "collapsed": true
   },
   "outputs": [],
   "source": []
  }
 ],
 "metadata": {
  "celltoolbar": "Raw Cell Format",
  "kernelspec": {
   "display_name": "Ruby 2.3.1",
   "language": "ruby",
   "name": "ruby"
  },
  "language_info": {
   "file_extension": ".rb",
   "mimetype": "application/x-ruby",
   "name": "ruby",
   "version": "2.3.1"
  }
 },
 "nbformat": 4,
 "nbformat_minor": 0
}
